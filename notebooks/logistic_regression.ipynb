{
 "cells": [
  {
   "cell_type": "code",
   "execution_count": 1,
   "id": "b0c191fa",
   "metadata": {},
   "outputs": [],
   "source": [
    "\n",
    "import pandas as pd\n",
    "from sklearn.linear_model import LogisticRegression\n",
    "from sklearn.metrics import accuracy_score, precision_score, recall_score, confusion_matrix, ConfusionMatrixDisplay"
   ]
  },
  {
   "cell_type": "code",
   "execution_count": 2,
   "id": "ac791e16",
   "metadata": {},
   "outputs": [
    {
     "ename": "NameError",
     "evalue": "name 'np' is not defined",
     "output_type": "error",
     "traceback": [
      "\u001b[0;31m---------------------------------------------------------------------------\u001b[0m",
      "\u001b[0;31mNameError\u001b[0m                                 Traceback (most recent call last)",
      "Cell \u001b[0;32mIn[2], line 1\u001b[0m\n\u001b[0;32m----> 1\u001b[0m \u001b[38;5;28;01mclass\u001b[39;00m \u001b[38;5;21;01mRunLogRegr\u001b[39;00m():\n\u001b[1;32m      2\u001b[0m     \u001b[38;5;28;01mdef\u001b[39;00m \u001b[38;5;21m__init__\u001b[39m(\u001b[38;5;28mself\u001b[39m, X_train: np\u001b[38;5;241m.\u001b[39mndarray, X_test: np\u001b[38;5;241m.\u001b[39mndarray, y_train: pd\u001b[38;5;241m.\u001b[39mDataFrame, y_test: pd\u001b[38;5;241m.\u001b[39mDataFrame) \u001b[38;5;241m-\u001b[39m\u001b[38;5;241m>\u001b[39m \u001b[38;5;28;01mNone\u001b[39;00m:\n\u001b[1;32m      3\u001b[0m         \u001b[38;5;28mself\u001b[39m\u001b[38;5;241m.\u001b[39mX_train \u001b[38;5;241m=\u001b[39m X_train\n",
      "Cell \u001b[0;32mIn[2], line 2\u001b[0m, in \u001b[0;36mRunLogRegr\u001b[0;34m()\u001b[0m\n\u001b[1;32m      1\u001b[0m \u001b[38;5;28;01mclass\u001b[39;00m \u001b[38;5;21;01mRunLogRegr\u001b[39;00m():\n\u001b[0;32m----> 2\u001b[0m     \u001b[38;5;28;01mdef\u001b[39;00m \u001b[38;5;21m__init__\u001b[39m(\u001b[38;5;28mself\u001b[39m, X_train: \u001b[43mnp\u001b[49m\u001b[38;5;241m.\u001b[39mndarray, X_test: np\u001b[38;5;241m.\u001b[39mndarray, y_train: pd\u001b[38;5;241m.\u001b[39mDataFrame, y_test: pd\u001b[38;5;241m.\u001b[39mDataFrame) \u001b[38;5;241m-\u001b[39m\u001b[38;5;241m>\u001b[39m \u001b[38;5;28;01mNone\u001b[39;00m:\n\u001b[1;32m      3\u001b[0m         \u001b[38;5;28mself\u001b[39m\u001b[38;5;241m.\u001b[39mX_train \u001b[38;5;241m=\u001b[39m X_train\n\u001b[1;32m      4\u001b[0m         \u001b[38;5;28mself\u001b[39m\u001b[38;5;241m.\u001b[39mX_test \u001b[38;5;241m=\u001b[39m X_test\n",
      "\u001b[0;31mNameError\u001b[0m: name 'np' is not defined"
     ]
    }
   ],
   "source": [
    "class RunLogRegr():\n",
    "    def __init__(self, X_train: np.ndarray, X_test: np.ndarray, y_train: pd.DataFrame, y_test: pd.DataFrame) -> None:\n",
    "        self.X_train = X_train\n",
    "        self.X_test = X_test\n",
    "        self.y_train = y_train\n",
    "        self.y_test = y_test\n",
    "    \n",
    "    def build_logregr(self) -> None:\n",
    "        self.lr = LogisticRegression(penalty='l2', class_weight='balanced', solver='liblinear')\n",
    "        self.lr.fit(self.X_train, self.y_train)\n",
    "    \n",
    "    def make_prediction(self) -> None:\n",
    "        '''\n",
    "        METHOD: make_prediction = now make a prediction on the test data with the optimal random forest model\n",
    "        '''\n",
    "        self.y_pred = self.lr.predict(self.X_test)\n",
    "    \n",
    "    def calc_scores(self) -> None:\n",
    "        '''\n",
    "        METHOD: calc_scores = calculate the accuracy, precision, recall, and F1-score\n",
    "        '''\n",
    "        self.accuracy = accuracy_score(self.y_test['class'], self.y_pred)\n",
    "        self.precision = precision_score(self.y_test['class'], self.y_pred)\n",
    "        self.recall = recall_score(self.y_test['class'], self.y_pred)\n",
    "        self.f1 = 2*self.precision*self.recall/(self.precision + self.recall)\n",
    "        \n",
    "        print(\"Accuracy =\", self.accuracy)\n",
    "        print(\"Precision =\", self.precision)\n",
    "        print(\"Recall =\", self.recall)\n",
    "        print(\"F1 =\", self.f1, '\\n')\n",
    "    \n",
    "    def print_confusion_matrix(self) -> None:\n",
    "        '''\n",
    "        METHOD: print_confusion_matrix = construct the confusion matrix on the test prediction\n",
    "        '''\n",
    "        cm = confusion_matrix(self.y_test['class'], self.y_pred)\n",
    "        ConfusionMatrixDisplay(confusion_matrix=cm).plot()\n",
    "    \n",
    "    def run(self) -> None:\n",
    "        '''\n",
    "        METHOD: run = run all the methods in order\n",
    "        '''\n",
    "        self.build_logregr()\n",
    "        self.make_prediction()\n",
    "        self.calc_scores()\n",
    "        self.print_confusion_matrix()"
   ]
  },
  {
   "cell_type": "code",
   "execution_count": null,
   "id": "f0558ebe",
   "metadata": {},
   "outputs": [],
   "source": []
  }
 ],
 "metadata": {
  "kernelspec": {
   "display_name": "Python 3 (ipykernel)",
   "language": "python",
   "name": "python3"
  },
  "language_info": {
   "codemirror_mode": {
    "name": "ipython",
    "version": 3
   },
   "file_extension": ".py",
   "mimetype": "text/x-python",
   "name": "python",
   "nbconvert_exporter": "python",
   "pygments_lexer": "ipython3",
   "version": "3.9.15"
  }
 },
 "nbformat": 4,
 "nbformat_minor": 5
}

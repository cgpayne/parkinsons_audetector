{
 "cells": [
  {
   "cell_type": "code",
   "execution_count": 1,
   "id": "bc07cdf8",
   "metadata": {},
   "outputs": [],
   "source": [
    "import math\n",
    "import numpy as np\n",
    "import pandas as pd\n",
    "import matplotlib.pyplot as plt\n",
    "import torch\n",
    "import torch.nn as nn"
   ]
  },
  {
   "cell_type": "code",
   "execution_count": 2,
   "id": "55db5d5b",
   "metadata": {},
   "outputs": [],
   "source": [
    "class Net(nn.Module):\n",
    "    def __init__(self, in_features: int, nodes_ratio: float):\n",
    "        super(Net, self).__init__()\n",
    "        num_nodes = math.floor(nodes_ratio*in_features)\n",
    "        \n",
    "        self.linear_relu_stack = nn.Sequential(\n",
    "            nn.Linear(in_features, num_nodes),  # input layer\n",
    "            nn.ReLU(),\n",
    "            nn.Linear(num_nodes, num_nodes),    # hidden layer 1\n",
    "            nn.ReLU(),\n",
    "            nn.Linear(num_nodes, num_nodes),    # hidden layer 2\n",
    "            nn.ReLU(),\n",
    "            nn.Linear(num_nodes, num_nodes),    # hidden layer 3\n",
    "            nn.ReLU(),\n",
    "            nn.Linear(num_nodes, num_nodes),    # hidden layer 4\n",
    "            nn.ReLU(),\n",
    "            nn.Linear(num_nodes, num_nodes),    # hidden layer 5\n",
    "            nn.ReLU(),\n",
    "            nn.Linear(num_nodes, 1)             # output layer\n",
    "        )\n",
    "\n",
    "    def forward(self, X: torch.Tensor) -> torch.Tensor:\n",
    "        X = self.linear_relu_stack(X)\n",
    "        return torch.sigmoid(X)"
   ]
  },
  {
   "cell_type": "code",
   "execution_count": 3,
   "id": "3de72618",
   "metadata": {},
   "outputs": [
    {
     "name": "stdout",
     "output_type": "stream",
     "text": [
      "---- X_train ----\n",
      "[[ 0.       0.85971  0.67213 ... 18.7334  20.8992  14.5305 ]\n",
      " [ 1.       0.8143   0.64398 ... 39.3016  28.786   82.6658 ]\n",
      " [ 1.       0.81623  0.68441 ...  2.3724   2.6572   5.4853 ]\n",
      " ...\n",
      " [ 1.       0.84981  0.71816 ...  3.4099   2.9277   8.1257 ]\n",
      " [ 1.       0.77259  0.62492 ...  7.2786   3.9883  16.937  ]\n",
      " [ 0.       0.84056  0.65446 ...  4.6952   7.6986   6.2858 ]] \n",
      "\n",
      "---- X_test ----\n",
      "[[ 0.       0.2532   0.70885 ...  4.1531   4.6684   3.5196 ]\n",
      " [ 1.       0.39336  0.67172 ...  2.5146   3.7603   3.5972 ]\n",
      " [ 1.       0.83757  0.67622 ... 60.638   49.7759  95.3547 ]\n",
      " ...\n",
      " [ 1.       0.83915  0.65746 ...  2.4711   2.354    4.4296 ]\n",
      " [ 1.       0.69954  0.72157 ... 43.7105  36.3226  79.6239 ]\n",
      " [ 0.       0.82239  0.66053 ...  2.5223   4.5897   3.3496 ]] \n",
      "\n",
      "---- y_train ----\n"
     ]
    },
    {
     "data": {
      "text/plain": [
       "array([0, 1, 0, 1, 0, 0, 1, 0, 0, 1, 0, 1, 1, 0, 1, 1, 0, 0, 0, 0, 0, 0,\n",
       "       0, 0, 1, 1, 0, 1, 0, 1, 0, 0, 0, 1, 1, 0, 1, 1, 0, 1, 0, 1, 1, 1,\n",
       "       0, 1, 0, 0, 1, 1, 0, 0, 1, 1, 0, 1, 1, 1, 0, 0, 1, 0, 1, 0, 0, 0,\n",
       "       0, 1, 1, 1, 0, 1, 0, 0, 1, 1, 1, 1, 0, 0, 0, 0, 0, 0, 1, 1, 1, 1,\n",
       "       0, 0, 1, 1, 0, 0, 1, 1, 1, 1, 1, 0, 0, 1, 0, 1, 0, 0, 1, 1, 1, 0,\n",
       "       0, 0, 1, 1, 0, 0, 1, 0, 0, 0, 0, 0, 0, 1, 0, 0, 0, 1, 0, 1, 1, 1,\n",
       "       1, 1, 1, 0, 1, 1, 0, 1, 0, 1, 1, 0, 0, 1, 1, 0, 1, 1, 0, 1, 0, 1,\n",
       "       0, 1, 0, 0, 1, 0, 0, 0, 1, 1, 0, 1, 1, 1, 0, 1, 0, 1, 1, 0, 1, 1,\n",
       "       1, 1, 0, 0, 0, 1, 0, 1, 0, 0, 1, 0, 0, 0, 1, 1, 0, 0, 0, 0, 1, 0,\n",
       "       0, 1, 1, 0, 0, 0, 0, 0, 1, 1, 1, 1, 1, 0, 1, 1, 1, 1, 1, 1, 0, 0,\n",
       "       0, 0, 0, 1, 1, 1, 0, 1, 0, 0, 0, 1, 1, 0, 1, 0, 1, 0, 1, 0, 1, 0,\n",
       "       1, 0, 0, 0, 1, 0, 0, 1, 1, 0, 1, 1, 0, 1, 0, 0, 1, 0, 0, 1, 1, 1,\n",
       "       0, 1, 1, 1, 1, 0, 0, 0, 1, 1, 0, 1, 0, 1, 0, 1, 0, 1, 0, 0, 1, 1,\n",
       "       1, 1, 1, 1, 1, 0, 0, 0, 0, 1, 1, 1, 0, 0, 0, 0, 1, 0, 1, 0, 0, 0,\n",
       "       0, 0, 1, 1, 0, 0, 0, 1, 1, 0, 1, 1, 1, 0, 0, 1, 0, 0, 1, 0, 1, 0,\n",
       "       1, 0, 1, 0, 0, 0, 1, 1, 1, 0, 1, 1, 0, 0, 1, 1, 1, 0, 0, 0, 1, 1,\n",
       "       1, 1, 1, 0, 0, 0, 0, 1, 1, 1, 1, 0, 0, 1, 0, 0, 0, 0, 1, 0, 0, 0,\n",
       "       1, 1, 0, 0, 1, 0, 1, 1, 1, 1, 1, 1, 0, 0, 1, 0, 1, 0, 1, 1, 1, 0,\n",
       "       0, 0, 1, 1, 0, 1, 0, 0, 1, 0, 0, 1, 1, 1, 0, 0, 0, 0, 1, 1, 0, 1,\n",
       "       1, 0, 1, 0, 0, 1, 1, 0, 0, 0, 0, 1, 0, 0, 0, 0, 1, 1, 1, 0, 1, 0,\n",
       "       1, 1, 0, 1, 0, 1, 0, 0, 1, 1, 1, 0, 0, 0, 1, 1, 1, 1, 1, 0, 0, 1,\n",
       "       0, 0, 0, 1, 1, 1, 0, 1, 0, 0, 0, 1, 1, 1, 1, 0, 1, 0, 0, 0, 1, 1,\n",
       "       0, 0, 1, 1, 1, 0, 1, 0, 0, 1, 0, 1, 1, 1, 1, 0, 1, 0, 1, 1, 0, 1,\n",
       "       1, 1, 0, 0, 0, 1, 0, 1, 1, 0, 0, 1, 0, 0, 0, 1, 0, 0, 1, 0, 0, 0,\n",
       "       1, 1, 1, 1, 0, 0, 1, 0, 0, 0, 0, 1, 1, 0, 1, 1, 1, 0, 1, 1, 1, 1,\n",
       "       1, 1, 0, 0, 1, 1, 0, 0, 0, 1, 0, 1, 1, 0, 0, 0, 1, 1, 1, 1, 0, 1,\n",
       "       0, 0, 1, 0, 1, 0, 1, 1, 1, 1, 0, 1, 1, 0, 0, 1, 0, 0, 0, 1, 0, 1,\n",
       "       1, 1, 1, 0, 0, 1, 0, 1, 1, 0, 0, 1, 1, 0, 0, 1, 1, 0, 0, 1, 1, 0,\n",
       "       1, 1, 0, 1, 1, 0, 1, 1, 1, 1, 1, 1, 0, 0, 0, 0, 1, 1, 0, 0, 0, 0,\n",
       "       1, 1, 1, 1, 0, 1, 1, 0, 1, 0, 1, 1, 1, 1, 0, 1, 0, 1, 0, 1, 0, 0,\n",
       "       1, 1, 1, 1, 1, 0, 0, 0, 0, 1, 0, 1, 0, 1, 1, 0, 1, 0, 1, 0, 1, 0,\n",
       "       0, 0, 0, 0, 0, 1, 1, 1, 0, 0, 0, 0, 1, 0, 1, 0, 0, 1, 1, 0, 0, 0,\n",
       "       0, 1, 1, 0, 1, 1, 1, 1, 1, 1, 0, 1, 1, 1, 0, 1, 0, 0, 0, 1, 0, 0,\n",
       "       1, 1, 0, 1, 1, 1, 0, 0, 0, 0, 0, 1, 1, 1, 1, 1, 1, 0, 0, 0, 0, 0,\n",
       "       1, 0, 0, 0, 0, 1, 1, 0, 0, 0, 1, 1, 0, 0, 1, 1, 0, 0, 0, 1, 0, 0,\n",
       "       1, 1, 1, 0, 0, 0, 0, 0, 1, 0, 0, 1, 1, 0, 0, 1, 0, 0, 1, 1, 1, 0,\n",
       "       1, 0, 1, 1, 1, 0, 1, 0, 1, 0, 0, 0, 1, 0, 1, 1, 0, 0, 0, 0, 1, 1,\n",
       "       0, 0, 1, 1, 0, 1, 1, 1, 0, 0, 1, 1, 0, 1, 0, 1, 1, 0, 1, 1, 1, 0,\n",
       "       0, 0, 0, 0, 0, 0, 1, 0, 1, 1, 0, 1, 0, 0, 1, 1, 0, 1, 1, 1, 0, 1,\n",
       "       1, 0, 0, 1, 0, 0, 0, 1, 1, 0, 0, 1, 1, 0, 0, 0, 1, 1, 1, 1, 1, 0,\n",
       "       1, 0, 0, 0, 0, 0, 0, 1, 0, 1, 0, 1, 1, 1, 0, 0])"
      ]
     },
     "metadata": {},
     "output_type": "display_data"
    },
    {
     "name": "stdout",
     "output_type": "stream",
     "text": [
      "num of HC = 448\n",
      "num of PD = 448\n",
      "---- y_test ----\n"
     ]
    },
    {
     "data": {
      "text/plain": [
       "array([1, 0, 1, 0, 0, 0, 1, 1, 1, 1, 1, 1, 1, 1, 1, 1, 0, 0, 1, 1, 0, 1,\n",
       "       0, 0, 1, 1, 0, 0, 1, 0, 0, 1, 1, 0, 0, 1, 1, 0, 1, 0, 1, 1, 1, 0,\n",
       "       1, 1, 1, 0, 0, 0, 0, 1, 1, 0, 1, 1, 0, 1, 0, 1, 0, 0, 0, 1, 0, 0,\n",
       "       0, 1, 0, 1, 1, 1, 1, 0, 1, 0, 1, 1, 1, 0, 1, 0, 0, 1, 0, 0, 0, 1,\n",
       "       1, 1, 0, 0, 1, 1, 0, 1, 1, 0, 1, 0, 0, 0, 1, 1, 1, 0, 1, 1, 0, 0,\n",
       "       1, 1, 1, 1, 1, 0, 0, 1, 0, 0, 0, 0, 1, 0, 0, 1, 1, 0, 1, 0, 0, 0,\n",
       "       1, 0, 1, 0, 0, 1, 0, 0, 0, 0, 1, 0, 0, 1, 1, 1, 1, 0, 0, 0, 1, 0,\n",
       "       1, 0, 0, 0, 0, 1, 0, 0, 1, 0, 1, 0, 0, 0, 0, 0, 0, 1, 0, 1, 0, 1,\n",
       "       1, 1, 1, 1, 0, 0, 1, 0, 0, 0, 0, 1, 1, 1, 0, 0, 1, 1, 1, 0, 0, 0,\n",
       "       1, 1, 1, 0, 0, 1, 1, 1, 1, 1, 0, 1, 0, 0, 1, 0, 1, 0, 0, 1, 1, 1,\n",
       "       0, 0, 1, 0])"
      ]
     },
     "metadata": {},
     "output_type": "display_data"
    },
    {
     "name": "stdout",
     "output_type": "stream",
     "text": [
      "num of HC = 112\n",
      "num of PD = 112\n"
     ]
    }
   ],
   "source": [
    "# kk = 0\n",
    "# Kfolds = 5\n",
    "\n",
    "# front_dir = '../data/split/outrmv-balanced/kfold'\n",
    "\n",
    "# X_train = np.loadtxt(front_dir + f'/X_train-{str(kk)}_kfold{str(Kfolds)}.csv', delimiter=',')\n",
    "# X_test = np.loadtxt(front_dir + f'/X_test-{str(kk)}_kfold{str(Kfolds)}.csv', delimiter=',')\n",
    "# y_train = pd.read_csv(front_dir + f'/y_train-{str(kk)}_kfold{str(Kfolds)}.csv', index_col=0)\n",
    "# y_test = pd.read_csv(front_dir + f'/y_test-{str(kk)}_kfold{str(Kfolds)}.csv', index_col=0)\n",
    "\n",
    "front_dir = '../data/split/outrmv-balanced/standard'\n",
    "\n",
    "X_train = np.loadtxt(front_dir + '/X_train.csv', delimiter=',')\n",
    "X_test = np.loadtxt(front_dir + '/X_test.csv', delimiter=',')\n",
    "y_train = pd.read_csv(front_dir + '/y_train.csv', index_col=0)\n",
    "y_test = pd.read_csv(front_dir + '/y_test.csv', index_col=0)\n",
    "\n",
    "y_train = y_train['class'].values\n",
    "y_test = y_test['class'].values\n",
    "\n",
    "print('---- X_train ----')\n",
    "print(X_train, '\\n')\n",
    "print('---- X_test ----')\n",
    "print(X_test, '\\n')\n",
    "print('---- y_train ----')\n",
    "display(y_train)\n",
    "print(\"num of HC =\", len([ii for ii in y_train if ii == 0]))\n",
    "print(\"num of PD =\", len([ii for ii in y_train if ii == 1]))\n",
    "print('---- y_test ----')\n",
    "display(y_test)\n",
    "print(\"num of HC =\", len([ii for ii in y_test if ii == 0]))\n",
    "print(\"num of PD =\", len([ii for ii in y_test if ii == 1]))"
   ]
  },
  {
   "cell_type": "code",
   "execution_count": 4,
   "id": "0cf4fea9",
   "metadata": {
    "scrolled": true
   },
   "outputs": [
    {
     "name": "stdout",
     "output_type": "stream",
     "text": [
      "Net(\n",
      "  (linear_relu_stack): Sequential(\n",
      "    (0): Linear(in_features=521, out_features=1563, bias=True)\n",
      "    (1): ReLU()\n",
      "    (2): Linear(in_features=1563, out_features=1563, bias=True)\n",
      "    (3): ReLU()\n",
      "    (4): Linear(in_features=1563, out_features=1563, bias=True)\n",
      "    (5): ReLU()\n",
      "    (6): Linear(in_features=1563, out_features=1563, bias=True)\n",
      "    (7): ReLU()\n",
      "    (8): Linear(in_features=1563, out_features=1563, bias=True)\n",
      "    (9): ReLU()\n",
      "    (10): Linear(in_features=1563, out_features=1563, bias=True)\n",
      "    (11): ReLU()\n",
      "    (12): Linear(in_features=1563, out_features=1, bias=True)\n",
      "  )\n",
      ")\n",
      "\n",
      "- learning...\n",
      "  ...done\n",
      "\n",
      "CPU times: user 4min 36s, sys: 8.18 s, total: 4min 45s\n",
      "Wall time: 2min 25s\n"
     ]
    }
   ],
   "source": [
    "%%time\n",
    "\n",
    "num_epochs = 200\n",
    "nodes_ratio = 3\n",
    "learning_rate = 1e-1\n",
    "lambda1 = 1e-3\n",
    "\n",
    "\n",
    "net = Net(in_features=X_train.shape[1], nodes_ratio=nodes_ratio)\n",
    "print(net)\n",
    "\n",
    "criterion = nn.BCEWithLogitsLoss()\n",
    "optimizer = torch.optim.SGD(net.parameters(), lr=learning_rate)\n",
    "\n",
    "mean_tracker = []\n",
    "loss_tracker = []\n",
    "\n",
    "print(\"\\n- learning...\")\n",
    "for epoch in range(num_epochs):\n",
    "    # forward propagation\n",
    "    y_hat = net(torch.tensor(X_train).float())\n",
    "    \n",
    "    # calculate loss (without l1 regularization)\n",
    "    loss = criterion(torch.tensor(y_train).reshape(len(y_train), 1).float(), y_hat)\n",
    "    \n",
    "    # add in the l1 regularization\n",
    "    l1_reg = 0\n",
    "    for param in net.parameters():\n",
    "        l1_reg += torch.norm(param, 1)\n",
    "    loss += lambda1*l1_reg\n",
    "    \n",
    "    # initialize gradients to zero\n",
    "    optimizer.zero_grad()\n",
    "    \n",
    "    # run backprop to calculate gradients\n",
    "    loss.backward()\n",
    "    \n",
    "    # update the model parameters\n",
    "    optimizer.step()\n",
    "    \n",
    "#     print(f\"--v-- epoch {epoch} --v--\")\n",
    "#     print(\"mean(y_hat) =\", y_hat.detach().numpy().mean())\n",
    "#     print(\"Loss =\", loss)\n",
    "    mean_tracker.append(y_hat.detach().numpy().mean())\n",
    "    loss_tracker.append(loss.item())\n",
    "print(\"  ...done\\n\")"
   ]
  },
  {
   "cell_type": "code",
   "execution_count": 5,
   "id": "e4edc9eb",
   "metadata": {},
   "outputs": [
    {
     "data": {
      "image/png": "[encoded data removed]",
      "text/plain": [
       "<Figure size 640x480 with 1 Axes>"
      ]
     },
     "metadata": {},
     "output_type": "display_data"
    },
    {
     "data": {
      "image/png": "[encoded data removed]",
      "text/plain": [
       "<Figure size 640x480 with 1 Axes>"
      ]
     },
     "metadata": {},
     "output_type": "display_data"
    }
   ],
   "source": [
    "plt.figure()\n",
    "plt.plot(np.arange(len(loss_tracker)), loss_tracker)\n",
    "plt.title(\"Loss\")\n",
    "plt.show()\n",
    "plt.close()\n",
    "\n",
    "plt.figure()\n",
    "plt.plot(np.arange(len(mean_tracker)), mean_tracker)\n",
    "plt.title(\"mean(y_hat)\")\n",
    "plt.show()\n",
    "plt.close()"
   ]
  },
  {
   "cell_type": "code",
   "execution_count": null,
   "id": "f7132519",
   "metadata": {},
   "outputs": [],
   "source": [
    "# F- I-- N---"
   ]
  }
 ],
 "metadata": {
  "kernelspec": {
   "display_name": "Python 3 (ipykernel)",
   "language": "python",
   "name": "python3"
  },
  "language_info": {
   "codemirror_mode": {
    "name": "ipython",
    "version": 3
   },
   "file_extension": ".py",
   "mimetype": "text/x-python",
   "name": "python",
   "nbconvert_exporter": "python",
   "pygments_lexer": "ipython3",
   "version": "3.9.15"
  }
 },
 "nbformat": 4,
 "nbformat_minor": 5
}

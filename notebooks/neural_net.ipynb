{
 "cells": [
  {
   "cell_type": "code",
   "execution_count": 1,
   "id": "bc07cdf8",
   "metadata": {},
   "outputs": [],
   "source": [
    "import math\n",
    "import numpy as np\n",
    "import pandas as pd\n",
    "import matplotlib.pyplot as plt\n",
    "import torch\n",
    "import torch.nn as nn"
   ]
  },
  {
   "cell_type": "code",
   "execution_count": 6,
   "id": "55db5d5b",
   "metadata": {},
   "outputs": [],
   "source": [
    "class Net(nn.Module):\n",
    "    def __init__(self, in_features: int, nodes_ratio: float):\n",
    "        super(Net, self).__init__()\n",
    "        num_nodes = math.floor(nodes_ratio*in_features)\n",
    "        \n",
    "        self.linear_relu_stack = nn.Sequential(\n",
    "            nn.Linear(in_features, num_nodes),  # input layer\n",
    "            nn.ReLU(),\n",
    "            nn.Linear(num_nodes, num_nodes),    # hidden layer 1\n",
    "            nn.ReLU(),\n",
    "            nn.Linear(num_nodes, num_nodes),    # hidden layer 2\n",
    "            nn.ReLU(),\n",
    "            nn.Linear(num_nodes, num_nodes),    # hidden layer 3\n",
    "            nn.ReLU(),\n",
    "            nn.Linear(num_nodes, num_nodes),    # hidden layer 4\n",
    "            nn.ReLU(),\n",
    "            nn.Linear(num_nodes, num_nodes),    # hidden layer 5\n",
    "            nn.ReLU(),\n",
    "            nn.Linear(num_nodes, 1)             # output layer\n",
    "        )\n",
    "\n",
    "    def forward(self, X: torch.Tensor) -> torch.Tensor:\n",
    "        X = self.linear_relu_stack(X)\n",
    "        return torch.sigmoid(X)"
   ]
  },
  {
   "cell_type": "code",
   "execution_count": 3,
   "id": "3de72618",
   "metadata": {},
   "outputs": [
    {
     "name": "stdout",
     "output_type": "stream",
     "text": [
      "---- X_train ----\n",
      "[[ 1.       0.71772  0.69237 ... 48.6683  38.6414  86.4028 ]\n",
      " [ 1.       0.35265  0.82153 ... 43.4266  39.7655  51.6423 ]\n",
      " [ 0.       0.84527  0.65005 ...  2.7035   2.5088   3.2158 ]\n",
      " ...\n",
      " [ 1.       0.80456  0.70612 ... 55.5402  47.0509  91.8193 ]\n",
      " [ 1.       0.79865  0.57376 ...  2.576    2.5895   3.4479 ]\n",
      " [ 0.       0.82938  0.66974 ...  2.754    2.6839   3.9689 ]] \n",
      "\n",
      "---- X_test ----\n",
      "[[ 0.       0.772    0.56362 ...  7.471    7.1655   5.3682 ]\n",
      " [ 0.       0.76197  0.6341  ...  5.4248  10.6982  23.5983 ]\n",
      " [ 1.       0.8061   0.71434 ...  3.7578   3.1984  13.4831 ]\n",
      " ...\n",
      " [ 0.       0.8426   0.75185 ...  5.501    4.1432   2.7032 ]\n",
      " [ 1.       0.60556  0.69601 ...  4.8061   4.8232   4.407  ]\n",
      " [ 0.       0.7549   0.62956 ...  3.5998   2.9165   3.4242 ]] \n",
      "\n",
      "---- y_train ----\n"
     ]
    },
    {
     "data": {
      "text/plain": [
       "array([0, 1, 0, 1, 0, 0, 1, 0, 0, 1, 0, 1, 1, 0, 1, 1, 0, 0, 0, 0, 0, 0,\n",
       "       0, 0, 1, 1, 0, 1, 0, 1, 0, 0, 0, 1, 1, 0, 1, 1, 0, 1, 0, 1, 1, 1,\n",
       "       0, 1, 0, 0, 1, 1, 0, 0, 1, 1, 0, 1, 1, 1, 0, 0, 1, 0, 1, 0, 0, 0,\n",
       "       0, 1, 1, 1, 0, 1, 0, 0, 1, 1, 1, 1, 0, 0, 0, 0, 0, 0, 1, 1, 1, 1,\n",
       "       0, 0, 1, 1, 0, 0, 1, 1, 1, 1, 1, 0, 0, 1, 0, 1, 0, 0, 1, 1, 1, 0,\n",
       "       0, 0, 1, 1, 0, 0, 1, 0, 0, 0, 0, 0, 0, 1, 0, 0, 0, 1, 0, 1, 1, 1,\n",
       "       1, 1, 1, 0, 1, 1, 0, 1, 0, 1, 1, 0, 0, 1, 1, 0, 1, 1, 0, 1, 0, 1,\n",
       "       0, 1, 0, 0, 1, 0, 0, 0, 1, 1, 0, 1, 1, 1, 0, 1, 0, 1, 1, 0, 1, 1,\n",
       "       1, 1, 0, 0, 0, 1, 0, 1, 0, 0, 1, 0, 0, 0, 1, 1, 0, 0, 0, 0, 1, 0,\n",
       "       0, 1, 1, 0, 0, 0, 0, 0, 1, 1, 1, 1, 1, 0, 1, 1, 1, 1, 1, 1, 0, 0,\n",
       "       0, 0, 0, 1, 1, 1, 0, 1, 0, 0, 0, 1, 1, 0, 1, 0, 1, 0, 1, 0, 1, 0,\n",
       "       1, 0, 0, 0, 1, 0, 0, 1, 1, 0, 1, 1, 0, 1, 0, 0, 1, 0, 0, 1, 1, 1,\n",
       "       0, 1, 1, 1, 1, 0, 0, 0, 1, 1, 0, 1, 0, 1, 0, 1, 0, 1, 0, 0, 1, 1,\n",
       "       1, 1, 1, 1, 1, 0, 0, 0, 0, 1, 1, 1, 0, 0, 0, 0, 1, 0, 1, 0, 0, 0,\n",
       "       0, 0, 1, 1, 0, 0, 0, 1, 1, 0, 1, 1, 1, 0, 0, 1, 0, 0, 1, 0, 1, 0,\n",
       "       1, 0, 1, 0, 0, 0, 1, 1, 1, 0, 1, 1, 0, 0, 1, 1, 1, 0, 0, 0, 1, 1,\n",
       "       1, 1, 1, 0, 0, 0, 0, 1, 1, 1, 1, 0, 0, 1, 0, 0, 0, 0, 1, 0, 0, 0,\n",
       "       1, 1, 0, 0, 1, 0, 1, 1, 1, 1, 1, 1, 0, 0, 1, 0, 1, 0, 1, 1, 1, 0,\n",
       "       0, 0, 1, 1, 0, 1, 0, 0, 1, 0, 0, 1, 1, 1, 0, 0, 0, 0, 1, 1, 0, 1,\n",
       "       1, 0, 1, 0, 0, 1, 1, 0, 0, 0, 0, 1, 0, 0, 0, 0, 1, 1, 1, 0, 1, 0,\n",
       "       1, 1, 0, 1, 0, 1, 0, 0, 1, 1, 1, 0, 0, 0, 1, 1, 1, 1, 1, 0, 0, 1,\n",
       "       0, 0, 0, 1, 1, 1, 0, 1, 0, 0, 0, 1, 1, 1, 1, 0, 1, 0, 0, 0, 1, 1,\n",
       "       0, 0, 1, 1, 1, 0, 1, 0, 0, 1, 0, 1, 1, 1, 1, 0, 1, 0, 1, 1, 0, 1,\n",
       "       1, 1, 0, 0, 0, 1, 0, 1, 1, 0, 0, 1, 0, 0, 0, 1, 0, 0, 1, 0, 0, 0,\n",
       "       1, 1, 1, 1, 0, 0, 1, 0, 0, 0, 0, 1, 1, 0, 1, 1, 1, 0, 1, 1, 1, 1,\n",
       "       1, 1, 0, 0, 1, 1, 0, 0, 0, 1, 0, 1, 1, 0, 0, 0, 1, 1, 1, 1, 0, 1,\n",
       "       0, 0, 1, 0, 1, 0, 1, 1, 1, 1, 0, 1, 1, 0, 0, 1, 0, 0, 0, 1, 1, 0,\n",
       "       1, 1, 1, 1, 0, 0, 1, 0, 1, 1, 0, 0, 1, 1, 0, 0, 1, 1, 0, 0, 1, 1,\n",
       "       0, 1, 1, 0, 1, 1, 0, 1, 1, 1, 1, 1, 1, 0, 0, 0, 0, 1, 1, 0, 0, 0,\n",
       "       0, 1, 1, 1, 1, 0, 1, 1, 0, 1, 0, 1, 1, 1, 1, 0, 1, 0, 1, 0, 1, 0,\n",
       "       0, 1, 1, 1, 1, 1, 0, 0, 0, 0, 1, 0, 1, 0, 1, 1, 0, 1, 0, 1, 0, 1,\n",
       "       0, 0, 0, 0, 0, 0, 1, 1, 1, 0, 0, 0, 0, 1, 0, 1, 0, 0, 1, 1, 0, 0,\n",
       "       0, 0, 1, 1, 0, 1, 1, 1, 1, 1, 1, 0, 1, 1, 1, 0, 1, 0, 0, 0, 1, 0,\n",
       "       0, 1, 1, 0, 1, 1, 1, 0, 0, 0, 0, 0, 1, 1, 1, 1, 1, 1, 0, 0, 0, 0,\n",
       "       0, 1, 0, 0, 0, 0, 1, 1, 0, 0, 0, 1, 1, 0, 0, 1, 1, 0, 0, 0, 1, 0,\n",
       "       0, 1, 1, 1, 0, 0, 0, 0, 0, 1, 0, 0, 1, 1, 0, 0, 1, 0, 0, 1, 1, 1,\n",
       "       0, 1, 0, 1, 1, 1, 0, 1, 0, 1, 0, 0, 0, 1, 0, 1, 1, 0, 0, 0, 0, 1,\n",
       "       1, 0, 0, 1, 1, 0, 1, 1, 1, 0, 0, 1, 1, 0, 1, 0, 1, 1, 0, 1, 1, 1,\n",
       "       0, 0, 0, 0, 0, 0, 0, 1, 0, 1, 1, 0, 1, 0, 0, 1, 1, 0, 1, 1, 1, 0,\n",
       "       1, 1, 0, 0, 1, 0, 0, 0, 1, 1, 0, 0, 1, 1, 0, 0, 0, 1, 1, 1, 1, 1,\n",
       "       0, 1, 0, 0, 0, 0, 0, 0, 1, 0, 1, 0, 1, 1, 1, 0, 0])"
      ]
     },
     "metadata": {},
     "output_type": "display_data"
    },
    {
     "name": "stdout",
     "output_type": "stream",
     "text": [
      "num of HC = 448\n",
      "num of PD = 449\n",
      "---- y_test ----\n"
     ]
    },
    {
     "data": {
      "text/plain": [
       "array([1, 0, 1, 0, 0, 1, 0, 0, 1, 1, 1, 1, 0, 1, 1, 1, 0, 0, 1, 1, 0, 1,\n",
       "       0, 0, 0, 1, 0, 0, 0, 1, 0, 1, 1, 1, 0, 1, 1, 0, 0, 0, 1, 0, 1, 1,\n",
       "       1, 1, 1, 1, 0, 1, 0, 0, 0, 1, 0, 0, 1, 0, 1, 1, 1, 1, 0, 1, 1, 0,\n",
       "       0, 0, 1, 0, 1, 1, 0, 1, 0, 1, 1, 1, 1, 1, 0, 1, 1, 0, 1, 0, 0, 1,\n",
       "       1, 1, 1, 0, 1, 1, 0, 0, 0, 1, 0, 0, 0, 0, 0, 1, 1, 1, 1, 0, 1, 1,\n",
       "       0, 0, 1, 1, 1, 1, 1, 0, 0, 1, 0, 0, 0, 0, 1, 0, 0, 1, 1, 1, 0, 0,\n",
       "       0, 1, 0, 1, 0, 0, 1, 0, 0, 0, 0, 1, 0, 0, 1, 1, 1, 1, 0, 0, 0, 1,\n",
       "       0, 1, 0, 0, 0, 0, 1, 0, 0, 1, 0, 1, 0, 0, 0, 0, 0, 0, 0, 0, 1, 0,\n",
       "       1, 1, 1, 1, 1, 0, 0, 1, 0, 0, 0, 0, 1, 1, 1, 0, 0, 1, 1, 1, 0, 0,\n",
       "       0, 1, 1, 1, 0, 0, 1, 1, 1, 1, 1, 0, 1, 0, 0, 1, 0, 1, 0, 0, 1, 1,\n",
       "       1, 0, 0, 1, 0])"
      ]
     },
     "metadata": {},
     "output_type": "display_data"
    },
    {
     "name": "stdout",
     "output_type": "stream",
     "text": [
      "num of HC = 113\n",
      "num of PD = 112\n"
     ]
    }
   ],
   "source": [
    "# kk = 0\n",
    "# Kfolds = 5\n",
    "\n",
    "# front_dir = '../data/split/outrmv-balanced/kfold'\n",
    "\n",
    "# X_train = np.loadtxt(front_dir + f'/X_train-{str(kk)}_kfold{str(Kfolds)}.csv', delimiter=',')\n",
    "# X_test = np.loadtxt(front_dir + f'/X_test-{str(kk)}_kfold{str(Kfolds)}.csv', delimiter=',')\n",
    "# y_train = pd.read_csv(front_dir + f'/y_train-{str(kk)}_kfold{str(Kfolds)}.csv', index_col=0)\n",
    "# y_test = pd.read_csv(front_dir + f'/y_test-{str(kk)}_kfold{str(Kfolds)}.csv', index_col=0)\n",
    "\n",
    "front_dir = '../data/split/outrmv-balanced/standard'\n",
    "\n",
    "X_train = np.loadtxt(front_dir + '/X_train.csv', delimiter=',')\n",
    "X_test = np.loadtxt(front_dir + '/X_test.csv', delimiter=',')\n",
    "y_train = pd.read_csv(front_dir + '/y_train.csv', index_col=0)\n",
    "y_test = pd.read_csv(front_dir + '/y_test.csv', index_col=0)\n",
    "\n",
    "y_train = y_train['class'].values\n",
    "y_test = y_test['class'].values\n",
    "\n",
    "print('---- X_train ----')\n",
    "print(X_train, '\\n')\n",
    "print('---- X_test ----')\n",
    "print(X_test, '\\n')\n",
    "print('---- y_train ----')\n",
    "display(y_train)\n",
    "print(\"num of HC =\", len([ii for ii in y_train if ii == 0]))\n",
    "print(\"num of PD =\", len([ii for ii in y_train if ii == 1]))\n",
    "print('---- y_test ----')\n",
    "display(y_test)\n",
    "print(\"num of HC =\", len([ii for ii in y_test if ii == 0]))\n",
    "print(\"num of PD =\", len([ii for ii in y_test if ii == 1]))"
   ]
  },
  {
   "cell_type": "code",
   "execution_count": null,
   "id": "0cf4fea9",
   "metadata": {
    "scrolled": true
   },
   "outputs": [
    {
     "name": "stdout",
     "output_type": "stream",
     "text": [
      "Net(\n",
      "  (linear_relu_stack): Sequential(\n",
      "    (0): Linear(in_features=380, out_features=1140, bias=True)\n",
      "    (1): ReLU()\n",
      "    (2): Linear(in_features=1140, out_features=1140, bias=True)\n",
      "    (3): ReLU()\n",
      "    (4): Linear(in_features=1140, out_features=1140, bias=True)\n",
      "    (5): ReLU()\n",
      "    (6): Linear(in_features=1140, out_features=1140, bias=True)\n",
      "    (7): ReLU()\n",
      "    (8): Linear(in_features=1140, out_features=1140, bias=True)\n",
      "    (9): ReLU()\n",
      "    (10): Linear(in_features=1140, out_features=1140, bias=True)\n",
      "    (11): ReLU()\n",
      "    (12): Linear(in_features=1140, out_features=1, bias=True)\n",
      "  )\n",
      ")\n",
      "\n",
      "- learning...\n"
     ]
    }
   ],
   "source": [
    "%%time\n",
    "\n",
    "num_epochs = 200\n",
    "nodes_ratio = 3\n",
    "learning_rate = 1e-1\n",
    "lambda1 = 1e-3\n",
    "\n",
    "\n",
    "net = Net(in_features=X_train.shape[1], nodes_ratio=nodes_ratio)\n",
    "print(net)\n",
    "\n",
    "criterion = nn.BCEWithLogitsLoss()\n",
    "optimizer = torch.optim.SGD(net.parameters(), lr=learning_rate)\n",
    "\n",
    "mean_tracker = []\n",
    "loss_tracker = []\n",
    "\n",
    "print(\"\\n- learning...\")\n",
    "for epoch in range(num_epochs):\n",
    "    # forward propagation\n",
    "    y_hat = net(torch.tensor(X_train).float())\n",
    "    \n",
    "    # calculate loss (without l1 regularization)\n",
    "    loss = criterion(torch.tensor(y_train).reshape(len(y_train), 1).float(), y_hat)\n",
    "    \n",
    "    # add in the l1 regularization\n",
    "    l1_reg = 0\n",
    "    for param in net.parameters():\n",
    "        l1_reg += torch.norm(param, 1)\n",
    "    loss += lambda1*l1_reg\n",
    "    \n",
    "    # initialize gradients to zero\n",
    "    optimizer.zero_grad()\n",
    "    \n",
    "    # run backprop to calculate gradients\n",
    "    loss.backward()\n",
    "    \n",
    "    # update the model parameters\n",
    "    optimizer.step()\n",
    "    \n",
    "#     print(f\"--v-- epoch {epoch} --v--\")\n",
    "#     print(\"mean(y_hat) =\", y_hat.detach().numpy().mean())\n",
    "#     print(\"Loss =\", loss)\n",
    "    mean_tracker.append(y_hat.detach().numpy().mean())\n",
    "    loss_tracker.append(loss.item())\n",
    "print(\"  ...done\\n\")"
   ]
  },
  {
   "cell_type": "code",
   "execution_count": 5,
   "id": "e4edc9eb",
   "metadata": {},
   "outputs": [
    {
     "data": {
      "image/png": "[encoded data removed]",
      "text/plain": [
       "<Figure size 640x480 with 1 Axes>"
      ]
     },
     "metadata": {},
     "output_type": "display_data"
    },
    {
     "data": {
      "image/png": "[encoded data removed]",
      "text/plain": [
       "<Figure size 640x480 with 1 Axes>"
      ]
     },
     "metadata": {},
     "output_type": "display_data"
    }
   ],
   "source": [
    "plt.figure()\n",
    "plt.plot(np.arange(len(loss_tracker)), loss_tracker)\n",
    "plt.title(\"Loss\")\n",
    "plt.show()\n",
    "plt.close()\n",
    "\n",
    "plt.figure()\n",
    "plt.plot(np.arange(len(mean_tracker)), mean_tracker)\n",
    "plt.title(\"mean(y_hat)\")\n",
    "plt.show()\n",
    "plt.close()"
   ]
  },
  {
   "cell_type": "code",
   "execution_count": null,
   "id": "f7132519",
   "metadata": {},
   "outputs": [],
   "source": [
    "# F- I-- N---"
   ]
  }
 ],
 "metadata": {
  "kernelspec": {
   "display_name": "Python 3 (ipykernel)",
   "language": "python",
   "name": "python3"
  },
  "language_info": {
   "codemirror_mode": {
    "name": "ipython",
    "version": 3
   },
   "file_extension": ".py",
   "mimetype": "text/x-python",
   "name": "python",
   "nbconvert_exporter": "python",
   "pygments_lexer": "ipython3",
   "version": "3.9.15"
  }
 },
 "nbformat": 4,
 "nbformat_minor": 5
}

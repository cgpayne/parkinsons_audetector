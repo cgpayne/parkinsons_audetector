{
 "cells": [
  {
   "cell_type": "code",
   "execution_count": 1,
   "id": "fc9ec69b",
   "metadata": {},
   "outputs": [],
   "source": [
    "import math\n",
    "import numpy as np\n",
    "import pandas as pd\n",
    "import matplotlib.pyplot as plt\n",
    "import torch\n",
    "import torch.nn as nn"
   ]
  },
  {
   "cell_type": "code",
   "execution_count": 3,
   "id": "61618147",
   "metadata": {},
   "outputs": [],
   "source": [
    "class Net(nn.Module):\n",
    "    def __init__(self, in_features: int, nodes_ratio: float):\n",
    "        super(Net, self).__init__()\n",
    "        num_nodes = math.floor(nodes_ratio*in_features)\n",
    "        \n",
    "        self.linear_relu_stack = nn.Sequential(\n",
    "            nn.Linear(in_features, num_nodes),  # input layer\n",
    "            nn.ReLU(),\n",
    "            nn.Linear(num_nodes, num_nodes),    # hidden layer 1\n",
    "            nn.ReLU(),\n",
    "#             nn.Linear(num_nodes, num_nodes),    # hidden layer 2\n",
    "#             nn.ReLU(),\n",
    "#             nn.Linear(num_nodes, num_nodes),    # hidden layer 3\n",
    "#             nn.ReLU(),\n",
    "#             nn.Linear(num_nodes, num_nodes),    # hidden layer 4\n",
    "#             nn.ReLU(),\n",
    "#             nn.Linear(num_nodes, num_nodes),    # hidden layer 5\n",
    "#             nn.ReLU(),\n",
    "            nn.Linear(num_nodes, 1)             # output layer 5\n",
    "        )\n",
    "\n",
    "    def forward(self, X: torch.Tensor) -> torch.Tensor:\n",
    "        X = self.linear_relu_stack(X)\n",
    "        return torch.sigmoid(X)"
   ]
  },
  {
   "cell_type": "code",
   "execution_count": 4,
   "id": "628c223e",
   "metadata": {},
   "outputs": [
    {
     "name": "stdout",
     "output_type": "stream",
     "text": [
      "---- X_train ----\n",
      "[[ 1.       0.8413   0.61915 ... 10.5646  15.1611   3.154  ]\n",
      " [ 1.       0.85141  0.78231 ... 17.9862  19.32    16.7182 ]\n",
      " [ 1.       0.4168   0.81849 ... 10.2158  12.5514   4.5732 ]\n",
      " ...\n",
      " [ 1.       0.8194   0.66134 ...  4.6975   5.1289  16.1682 ]\n",
      " [ 0.       0.7992   0.56036 ... 15.6959  10.7006   4.1641 ]\n",
      " [ 1.       0.85127  0.69896 ...  4.3219   3.2261   6.0101 ]] \n",
      "\n",
      "---- X_test ----\n",
      "[[ 1.       0.26053  0.6523  ... 25.4372  44.0381  19.5625 ]\n",
      " [ 1.       0.10348  0.62955 ...  8.231    4.2785  11.8537 ]\n",
      " [ 1.       0.74652  0.63445 ...  2.5856   2.7656  14.9227 ]\n",
      " ...\n",
      " [ 1.       0.82927  0.69312 ...  4.4932   6.7454  31.5223 ]\n",
      " [ 1.       0.82311  0.65177 ... 60.7794  49.6973  95.8868 ]\n",
      " [ 0.       0.84634  0.56678 ... 26.5051  32.8832   3.4474 ]] \n",
      "\n",
      "---- y_train ----\n"
     ]
    },
    {
     "data": {
      "text/plain": [
       "array([1, 1, 1, 1, 1, 1, 0, 1, 1, 1, 1, 1, 1, 1, 1, 0, 1, 1, 1, 1, 1, 1,\n",
       "       0, 1, 1, 0, 1, 0, 0, 1, 1, 1, 1, 1, 1, 1, 1, 0, 0, 1, 1, 0, 1, 1,\n",
       "       1, 1, 1, 0, 1, 1, 1, 1, 1, 1, 1, 1, 0, 1, 1, 1, 1, 0, 1, 0, 1, 0,\n",
       "       1, 1, 0, 1, 0, 1, 1, 1, 0, 1, 1, 0, 0, 1, 0, 1, 1, 1, 1, 0, 1, 1,\n",
       "       1, 1, 1, 1, 1, 0, 1, 1, 1, 1, 0, 1, 1, 1, 0, 1, 0, 1, 0, 1, 1, 1,\n",
       "       1, 0, 1, 1, 1, 0, 1, 1, 1, 1, 1, 0, 1, 1, 1, 1, 1, 1, 1, 1, 1, 1,\n",
       "       1, 1, 0, 1, 1, 1, 1, 1, 0, 0, 1, 1, 1, 0, 1, 1, 1, 0, 1, 1, 1, 1,\n",
       "       1, 1, 1, 0, 0, 0, 0, 1, 1, 1, 0, 1, 1, 1, 1, 0, 1, 1, 1, 1, 1, 1,\n",
       "       0, 1, 1, 0, 0, 1, 1, 1, 1, 1, 1, 1, 0, 1, 1, 1, 1, 1, 0, 1, 1, 0,\n",
       "       0, 0, 1, 0, 1, 1, 1, 1, 1, 1, 1, 1, 1, 0, 1, 1, 1, 1, 1, 1, 1, 1,\n",
       "       1, 1, 1, 0, 1, 1, 1, 0, 1, 1, 1, 0, 1, 0, 1, 1, 1, 0, 1, 1, 0, 1,\n",
       "       1, 0, 1, 1, 1, 0, 1, 0, 1, 1, 0, 1, 0, 0, 1, 1, 1, 1, 1, 1, 0, 1,\n",
       "       1, 1, 1, 1, 1, 0, 0, 1, 1, 0, 1, 1, 1, 1, 1, 1, 0, 1, 1, 1, 1, 1,\n",
       "       1, 1, 0, 1, 1, 1, 1, 1, 1, 0, 1, 1, 1, 1, 1, 1, 1, 1, 1, 1, 1, 1,\n",
       "       1, 1, 1, 1, 1, 1, 1, 0, 0, 0, 0, 1, 1, 1, 0, 1, 1, 1, 1, 1, 0, 0,\n",
       "       1, 1, 1, 1, 1, 1, 1, 1, 1, 1, 1, 1, 1, 0, 1, 1, 1, 0, 0, 1, 1, 1,\n",
       "       1, 1, 1, 1, 1, 1, 1, 1, 1, 1, 1, 1, 0, 0, 1, 1, 1, 1, 1, 0, 1, 1,\n",
       "       1, 1, 1, 0, 1, 0, 1, 0, 0, 0, 1, 0, 0, 0, 1, 1, 1, 1, 1, 1, 1, 1,\n",
       "       1, 1, 1, 1, 1, 1, 0, 0, 1, 1, 0, 1, 1, 1, 1, 1, 1, 1, 1, 0, 1, 0,\n",
       "       0, 1, 1, 1, 0, 1, 1, 1, 1, 1, 1, 1, 0, 0, 0, 1, 1, 0, 1, 1, 1, 1,\n",
       "       1, 1, 1, 1, 1, 1, 1, 1, 0, 0, 1, 0, 0, 1, 1, 1, 1, 1, 0, 1, 1, 1,\n",
       "       0, 0, 1, 0, 1, 0, 1, 1, 0, 0, 0, 1, 1, 1, 0, 1, 1, 1, 0, 1, 1, 0,\n",
       "       1, 1, 0, 1, 1, 1, 1, 1, 1, 1, 1, 1, 0, 0, 1, 1, 1, 1, 1, 1, 1, 1,\n",
       "       1, 1, 0, 1, 0, 1, 1, 1, 1, 0, 1, 0, 1, 0, 0, 1, 0, 1, 1, 0, 0, 1,\n",
       "       0, 0, 0, 1, 1, 1, 1, 1, 1, 1, 0, 1, 0, 0, 0, 1, 1, 1, 1, 1, 1, 1,\n",
       "       1, 0, 0, 0, 1, 1, 0, 1, 0, 1, 1, 1, 1, 0, 0, 0, 1, 0, 1, 1, 1, 1,\n",
       "       1, 1, 1, 1, 1, 0, 1, 1, 0, 1, 0, 1, 1, 1, 1, 1, 1, 1, 0, 1, 1, 0,\n",
       "       1, 1, 1, 1, 0, 0])"
      ]
     },
     "metadata": {},
     "output_type": "display_data"
    },
    {
     "name": "stdout",
     "output_type": "stream",
     "text": [
      "---- y_test ----\n"
     ]
    },
    {
     "data": {
      "text/plain": [
       "array([1, 0, 0, 1, 1, 1, 0, 1, 1, 1, 1, 1, 1, 1, 1, 1, 0, 1, 0, 1, 1, 1,\n",
       "       1, 1, 1, 1, 0, 0, 0, 1, 1, 1, 1, 1, 1, 1, 1, 1, 1, 1, 1, 1, 0, 0,\n",
       "       1, 1, 0, 1, 1, 1, 1, 0, 1, 0, 1, 0, 0, 0, 1, 1, 1, 1, 1, 1, 1, 1,\n",
       "       1, 0, 0, 1, 1, 0, 0, 1, 1, 1, 0, 1, 1, 1, 1, 0, 1, 1, 0, 0, 1, 1,\n",
       "       1, 0, 1, 1, 0, 0, 0, 1, 1, 0, 1, 0, 1, 1, 1, 1, 1, 1, 1, 1, 1, 1,\n",
       "       0, 1, 0, 1, 1, 1, 1, 1, 1, 1, 1, 1, 1, 1, 1, 1, 1, 1, 1, 1, 0, 0,\n",
       "       1, 1, 1, 1, 0, 1, 0, 1, 1, 1, 1, 0, 1, 1, 1, 1, 1, 0])"
      ]
     },
     "metadata": {},
     "output_type": "display_data"
    }
   ],
   "source": [
    "# kk = 0\n",
    "# Kfolds = 5\n",
    "\n",
    "# front_dir = '../data/split/kfold'\n",
    "\n",
    "# X_train = np.loadtxt(front_dir + f'/X_train-{str(kk)}_kfold{str(Kfolds)}.csv', delimiter=',')\n",
    "# X_test = np.loadtxt(front_dir + f'/X_test-{str(kk)}_kfold{str(Kfolds)}.csv', delimiter=',')\n",
    "# y_train = pd.read_csv(front_dir + f'/y_train-{str(kk)}_kfold{str(Kfolds)}.csv', index_col=0)\n",
    "# y_test = pd.read_csv(front_dir + f'/y_test-{str(kk)}_kfold{str(Kfolds)}.csv', index_col=0)\n",
    "\n",
    "front_dir = '../data/split/standard'\n",
    "\n",
    "X_train = np.loadtxt(front_dir + '/X_train.csv', delimiter=',')\n",
    "X_test = np.loadtxt(front_dir + '/X_test.csv', delimiter=',')\n",
    "y_train = pd.read_csv(front_dir + '/y_train.csv', index_col=0)\n",
    "y_test = pd.read_csv(front_dir + '/y_test.csv', index_col=0)\n",
    "\n",
    "y_train = y_train['class'].values\n",
    "y_test = y_test['class'].values\n",
    "\n",
    "print('---- X_train ----')\n",
    "print(X_train, '\\n')\n",
    "print('---- X_test ----')\n",
    "print(X_test, '\\n')\n",
    "print('---- y_train ----')\n",
    "display(y_train)\n",
    "print('---- y_test ----')\n",
    "display(y_test)"
   ]
  },
  {
   "cell_type": "code",
   "execution_count": null,
   "id": "03e992ac",
   "metadata": {
    "scrolled": true
   },
   "outputs": [
    {
     "name": "stdout",
     "output_type": "stream",
     "text": [
      "Net(\n",
      "  (linear_relu_stack): Sequential(\n",
      "    (0): Linear(in_features=584, out_features=1752, bias=True)\n",
      "    (1): ReLU()\n",
      "    (2): Linear(in_features=1752, out_features=1752, bias=True)\n",
      "    (3): ReLU()\n",
      "    (4): Linear(in_features=1752, out_features=1, bias=True)\n",
      "  )\n",
      ")\n",
      "\n",
      "- learning...\n"
     ]
    }
   ],
   "source": [
    "%%time\n",
    "\n",
    "num_epochs = 200\n",
    "nodes_ratio = 3\n",
    "learning_rate = 1e-1\n",
    "lambda1 = 1e-3\n",
    "\n",
    "\n",
    "net = Net(in_features=X_train.shape[1], nodes_ratio=nodes_ratio)\n",
    "print(net)\n",
    "\n",
    "criterion = nn.BCEWithLogitsLoss()\n",
    "optimizer = torch.optim.SGD(net.parameters(), lr=learning_rate)\n",
    "\n",
    "mean_tracker = []\n",
    "loss_tracker = []\n",
    "\n",
    "print(\"\\n- learning...\")\n",
    "for epoch in range(num_epochs):\n",
    "    # forward propagation\n",
    "    y_hat = net(torch.tensor(X_train).float())\n",
    "    \n",
    "    # calculate loss (without l1 regularization)\n",
    "    loss = criterion(torch.tensor(y_train).reshape(len(y_train), 1).float(), y_hat)\n",
    "    \n",
    "    # add in the l1 regularization\n",
    "    l1_reg = 0\n",
    "    for param in net.parameters():\n",
    "        l1_reg += torch.norm(param, 1)\n",
    "    loss += lambda1*l1_reg\n",
    "    \n",
    "    # initialize gradients to zero\n",
    "    optimizer.zero_grad()\n",
    "    \n",
    "    # run backprop to calculate gradients\n",
    "    loss.backward()\n",
    "    \n",
    "    # update the model parameters\n",
    "    optimizer.step()\n",
    "    \n",
    "#     print(f\"--v-- epoch {epoch} --v--\")\n",
    "#     print(\"mean(y_hat) =\", y_hat.detach().numpy().mean())\n",
    "#     print(\"Loss =\", loss)\n",
    "    mean_tracker.append(y_hat.detach().numpy().mean())\n",
    "    loss_tracker.append(loss.item())\n",
    "print(\"  ...done\\n\")"
   ]
  },
  {
   "cell_type": "code",
   "execution_count": null,
   "id": "2ce72472",
   "metadata": {},
   "outputs": [],
   "source": [
    "plt.figure()\n",
    "plt.plot(np.arange(len(loss_tracker)), loss_tracker)\n",
    "plt.title(\"Loss\")\n",
    "plt.show()\n",
    "plt.close()\n",
    "\n",
    "plt.figure()\n",
    "plt.plot(np.arange(len(mean_tracker)), mean_tracker)\n",
    "plt.title(\"mean(y_hat)\")\n",
    "plt.show()\n",
    "plt.close()"
   ]
  },
  {
   "cell_type": "code",
   "execution_count": null,
   "id": "c1cdfc59",
   "metadata": {},
   "outputs": [],
   "source": [
    "# F- I-- N---"
   ]
  }
 ],
 "metadata": {
  "kernelspec": {
   "display_name": "Python 3 (ipykernel)",
   "language": "python",
   "name": "python3"
  },
  "language_info": {
   "codemirror_mode": {
    "name": "ipython",
    "version": 3
   },
   "file_extension": ".py",
   "mimetype": "text/x-python",
   "name": "python",
   "nbconvert_exporter": "python",
   "pygments_lexer": "ipython3",
   "version": "3.9.15"
  }
 },
 "nbformat": 4,
 "nbformat_minor": 5
}
